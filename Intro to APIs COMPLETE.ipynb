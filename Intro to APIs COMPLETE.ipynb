{
 "cells": [
  {
   "cell_type": "markdown",
   "id": "7196054f",
   "metadata": {},
   "source": [
    "# Working with APIs"
   ]
  },
  {
   "cell_type": "markdown",
   "id": "0547b71e",
   "metadata": {},
   "source": [
    "API stands for Application programming interface<br>\n",
    "APIs are a way for applications to talk to eachother<br>\n",
    "In python we use the requests package to handle the connection<br>\n",
    "<small><strong>Note: It is requests with an s not request(this is a different package)</strong></small><br>\n",
    "Most API's communicate with data in the form of JSON<br>\n",
    "JSON stands for JavaScript Object Notation"
   ]
  },
  {
   "attachments": {},
   "cell_type": "markdown",
   "id": "cc80a1f0",
   "metadata": {},
   "source": [
    "### importing requests module"
   ]
  },
  {
   "cell_type": "code",
   "execution_count": 1,
   "id": "4db9d154",
   "metadata": {},
   "outputs": [],
   "source": [
    "import requests"
   ]
  },
  {
   "cell_type": "markdown",
   "id": "e8c2ce51",
   "metadata": {},
   "source": [
    "We will be connecting to the Ergast F1 Racer API today:\n",
    "http://ergast.com/mrd/\n",
    "\n",
    "to view JSON data nicely in the Chrome browser install the extension JSONview"
   ]
  },
  {
   "cell_type": "code",
   "execution_count": 3,
   "id": "52c440c6",
   "metadata": {},
   "outputs": [],
   "source": [
    "# Make sure to attach extension .json at the end of url (you wont need .json for every api)\n",
    "\n",
    "url = 'https://ergast.com/api/f1/2008/5/driverStandings.json'\n"
   ]
  },
  {
   "attachments": {},
   "cell_type": "markdown",
   "id": "1f8dc8b3",
   "metadata": {},
   "source": [
    "### using the request package to access data from api/url"
   ]
  },
  {
   "cell_type": "code",
   "execution_count": 4,
   "id": "f60c1b4a",
   "metadata": {},
   "outputs": [],
   "source": [
    "response = requests.get(url)"
   ]
  },
  {
   "attachments": {},
   "cell_type": "markdown",
   "id": "52f840a9",
   "metadata": {},
   "source": [
    "### checking and making sure we got a successful response from our API\n",
    "#### status codes: 200 = ok/successful, 400 = bad/unsuccessful"
   ]
  },
  {
   "cell_type": "code",
   "execution_count": 6,
   "id": "7b63a204",
   "metadata": {},
   "outputs": [
    {
     "name": "stdout",
     "output_type": "stream",
     "text": [
      "True\n",
      "200\n"
     ]
    }
   ],
   "source": [
    "print(response.ok)\n",
    "\n",
    "print(response.status_code)"
   ]
  },
  {
   "attachments": {},
   "cell_type": "markdown",
   "id": "bc3fa89d",
   "metadata": {},
   "source": [
    "### view the response as a JSON with .json()"
   ]
  },
  {
   "cell_type": "code",
   "execution_count": 8,
   "id": "ed4d3256",
   "metadata": {},
   "outputs": [
    {
     "name": "stdout",
     "output_type": "stream",
     "text": [
      "{'MRData': {'xmlns': 'http://ergast.com/mrd/1.5', 'series': 'f1', 'url': 'http://ergast.com/api/f1/2008/5/driverstandings.json', 'limit': '30', 'offset': '0', 'total': '22', 'StandingsTable': {'season': '2008', 'round': '5', 'StandingsLists': [{'season': '2008', 'round': '5', 'DriverStandings': [{'position': '1', 'positionText': '1', 'points': '35', 'wins': '2', 'Driver': {'driverId': 'raikkonen', 'permanentNumber': '7', 'code': 'RAI', 'url': 'http://en.wikipedia.org/wiki/Kimi_R%C3%A4ikk%C3%B6nen', 'givenName': 'Kimi', 'familyName': 'Räikkönen', 'dateOfBirth': '1979-10-17', 'nationality': 'Finnish'}, 'Constructors': [{'constructorId': 'ferrari', 'url': 'http://en.wikipedia.org/wiki/Scuderia_Ferrari', 'name': 'Ferrari', 'nationality': 'Italian'}]}, {'position': '2', 'positionText': '2', 'points': '28', 'wins': '2', 'Driver': {'driverId': 'massa', 'permanentNumber': '19', 'code': 'MAS', 'url': 'http://en.wikipedia.org/wiki/Felipe_Massa', 'givenName': 'Felipe', 'familyName': 'Massa', 'dateOfBirth': '1981-04-25', 'nationality': 'Brazilian'}, 'Constructors': [{'constructorId': 'ferrari', 'url': 'http://en.wikipedia.org/wiki/Scuderia_Ferrari', 'name': 'Ferrari', 'nationality': 'Italian'}]}, {'position': '3', 'positionText': '3', 'points': '28', 'wins': '1', 'Driver': {'driverId': 'hamilton', 'permanentNumber': '44', 'code': 'HAM', 'url': 'http://en.wikipedia.org/wiki/Lewis_Hamilton', 'givenName': 'Lewis', 'familyName': 'Hamilton', 'dateOfBirth': '1985-01-07', 'nationality': 'British'}, 'Constructors': [{'constructorId': 'mclaren', 'url': 'http://en.wikipedia.org/wiki/McLaren', 'name': 'McLaren', 'nationality': 'British'}]}, {'position': '4', 'positionText': '4', 'points': '24', 'wins': '0', 'Driver': {'driverId': 'kubica', 'permanentNumber': '88', 'code': 'KUB', 'url': 'http://en.wikipedia.org/wiki/Robert_Kubica', 'givenName': 'Robert', 'familyName': 'Kubica', 'dateOfBirth': '1984-12-07', 'nationality': 'Polish'}, 'Constructors': [{'constructorId': 'bmw_sauber', 'url': 'http://en.wikipedia.org/wiki/BMW_Sauber', 'name': 'BMW Sauber', 'nationality': 'German'}]}, {'position': '5', 'positionText': '5', 'points': '20', 'wins': '0', 'Driver': {'driverId': 'heidfeld', 'code': 'HEI', 'url': 'http://en.wikipedia.org/wiki/Nick_Heidfeld', 'givenName': 'Nick', 'familyName': 'Heidfeld', 'dateOfBirth': '1977-05-10', 'nationality': 'German'}, 'Constructors': [{'constructorId': 'bmw_sauber', 'url': 'http://en.wikipedia.org/wiki/BMW_Sauber', 'name': 'BMW Sauber', 'nationality': 'German'}]}, {'position': '6', 'positionText': '6', 'points': '14', 'wins': '0', 'Driver': {'driverId': 'kovalainen', 'code': 'KOV', 'url': 'http://en.wikipedia.org/wiki/Heikki_Kovalainen', 'givenName': 'Heikki', 'familyName': 'Kovalainen', 'dateOfBirth': '1981-10-19', 'nationality': 'Finnish'}, 'Constructors': [{'constructorId': 'mclaren', 'url': 'http://en.wikipedia.org/wiki/McLaren', 'name': 'McLaren', 'nationality': 'British'}]}, {'position': '7', 'positionText': '7', 'points': '10', 'wins': '0', 'Driver': {'driverId': 'webber', 'code': 'WEB', 'url': 'http://en.wikipedia.org/wiki/Mark_Webber_(racing_driver)', 'givenName': 'Mark', 'familyName': 'Webber', 'dateOfBirth': '1976-08-27', 'nationality': 'Australian'}, 'Constructors': [{'constructorId': 'red_bull', 'url': 'http://en.wikipedia.org/wiki/Red_Bull_Racing', 'name': 'Red Bull', 'nationality': 'Austrian'}]}, {'position': '8', 'positionText': '8', 'points': '9', 'wins': '0', 'Driver': {'driverId': 'alonso', 'permanentNumber': '14', 'code': 'ALO', 'url': 'http://en.wikipedia.org/wiki/Fernando_Alonso', 'givenName': 'Fernando', 'familyName': 'Alonso', 'dateOfBirth': '1981-07-29', 'nationality': 'Spanish'}, 'Constructors': [{'constructorId': 'renault', 'url': 'http://en.wikipedia.org/wiki/Renault_in_Formula_One', 'name': 'Renault', 'nationality': 'French'}]}, {'position': '9', 'positionText': '9', 'points': '9', 'wins': '0', 'Driver': {'driverId': 'trulli', 'code': 'TRU', 'url': 'http://en.wikipedia.org/wiki/Jarno_Trulli', 'givenName': 'Jarno', 'familyName': 'Trulli', 'dateOfBirth': '1974-07-13', 'nationality': 'Italian'}, 'Constructors': [{'constructorId': 'toyota', 'url': 'http://en.wikipedia.org/wiki/Toyota_Racing', 'name': 'Toyota', 'nationality': 'Japanese'}]}, {'position': '10', 'positionText': '10', 'points': '8', 'wins': '0', 'Driver': {'driverId': 'rosberg', 'permanentNumber': '6', 'code': 'ROS', 'url': 'http://en.wikipedia.org/wiki/Nico_Rosberg', 'givenName': 'Nico', 'familyName': 'Rosberg', 'dateOfBirth': '1985-06-27', 'nationality': 'German'}, 'Constructors': [{'constructorId': 'williams', 'url': 'http://en.wikipedia.org/wiki/Williams_Grand_Prix_Engineering', 'name': 'Williams', 'nationality': 'British'}]}, {'position': '11', 'positionText': '11', 'points': '5', 'wins': '0', 'Driver': {'driverId': 'nakajima', 'code': 'NAK', 'url': 'http://en.wikipedia.org/wiki/Kazuki_Nakajima', 'givenName': 'Kazuki', 'familyName': 'Nakajima', 'dateOfBirth': '1985-01-11', 'nationality': 'Japanese'}, 'Constructors': [{'constructorId': 'williams', 'url': 'http://en.wikipedia.org/wiki/Williams_Grand_Prix_Engineering', 'name': 'Williams', 'nationality': 'British'}]}, {'position': '12', 'positionText': '12', 'points': '3', 'wins': '0', 'Driver': {'driverId': 'button', 'permanentNumber': '22', 'code': 'BUT', 'url': 'http://en.wikipedia.org/wiki/Jenson_Button', 'givenName': 'Jenson', 'familyName': 'Button', 'dateOfBirth': '1980-01-19', 'nationality': 'British'}, 'Constructors': [{'constructorId': 'honda', 'url': 'http://en.wikipedia.org/wiki/Honda_Racing_F1', 'name': 'Honda', 'nationality': 'Japanese'}]}, {'position': '13', 'positionText': '13', 'points': '2', 'wins': '0', 'Driver': {'driverId': 'bourdais', 'code': 'BOU', 'url': 'http://en.wikipedia.org/wiki/S%C3%A9bastien_Bourdais', 'givenName': 'Sébastien', 'familyName': 'Bourdais', 'dateOfBirth': '1979-02-28', 'nationality': 'French'}, 'Constructors': [{'constructorId': 'toro_rosso', 'url': 'http://en.wikipedia.org/wiki/Scuderia_Toro_Rosso', 'name': 'Toro Rosso', 'nationality': 'Italian'}]}, {'position': '14', 'positionText': '14', 'points': '0', 'wins': '0', 'Driver': {'driverId': 'coulthard', 'code': 'COU', 'url': 'http://en.wikipedia.org/wiki/David_Coulthard', 'givenName': 'David', 'familyName': 'Coulthard', 'dateOfBirth': '1971-03-27', 'nationality': 'British'}, 'Constructors': [{'constructorId': 'red_bull', 'url': 'http://en.wikipedia.org/wiki/Red_Bull_Racing', 'name': 'Red Bull', 'nationality': 'Austrian'}]}, {'position': '15', 'positionText': '15', 'points': '0', 'wins': '0', 'Driver': {'driverId': 'glock', 'code': 'GLO', 'url': 'http://en.wikipedia.org/wiki/Timo_Glock', 'givenName': 'Timo', 'familyName': 'Glock', 'dateOfBirth': '1982-03-18', 'nationality': 'German'}, 'Constructors': [{'constructorId': 'toyota', 'url': 'http://en.wikipedia.org/wiki/Toyota_Racing', 'name': 'Toyota', 'nationality': 'Japanese'}]}, {'position': '16', 'positionText': '16', 'points': '0', 'wins': '0', 'Driver': {'driverId': 'fisichella', 'code': 'FIS', 'url': 'http://en.wikipedia.org/wiki/Giancarlo_Fisichella', 'givenName': 'Giancarlo', 'familyName': 'Fisichella', 'dateOfBirth': '1973-01-14', 'nationality': 'Italian'}, 'Constructors': [{'constructorId': 'force_india', 'url': 'http://en.wikipedia.org/wiki/Racing_Point_Force_India', 'name': 'Force India', 'nationality': 'Indian'}]}, {'position': '17', 'positionText': '17', 'points': '0', 'wins': '0', 'Driver': {'driverId': 'barrichello', 'code': 'BAR', 'url': 'http://en.wikipedia.org/wiki/Rubens_Barrichello', 'givenName': 'Rubens', 'familyName': 'Barrichello', 'dateOfBirth': '1972-05-23', 'nationality': 'Brazilian'}, 'Constructors': [{'constructorId': 'honda', 'url': 'http://en.wikipedia.org/wiki/Honda_Racing_F1', 'name': 'Honda', 'nationality': 'Japanese'}]}, {'position': '18', 'positionText': '18', 'points': '0', 'wins': '0', 'Driver': {'driverId': 'piquet_jr', 'code': 'PIQ', 'url': 'http://en.wikipedia.org/wiki/Nelson_Piquet,_Jr.', 'givenName': 'Nelson', 'familyName': 'Piquet Jr.', 'dateOfBirth': '1985-07-25', 'nationality': 'Brazilian'}, 'Constructors': [{'constructorId': 'renault', 'url': 'http://en.wikipedia.org/wiki/Renault_in_Formula_One', 'name': 'Renault', 'nationality': 'French'}]}, {'position': '19', 'positionText': '19', 'points': '0', 'wins': '0', 'Driver': {'driverId': 'sato', 'code': 'SAT', 'url': 'http://en.wikipedia.org/wiki/Takuma_Sato', 'givenName': 'Takuma', 'familyName': 'Sato', 'dateOfBirth': '1977-01-28', 'nationality': 'Japanese'}, 'Constructors': [{'constructorId': 'super_aguri', 'url': 'http://en.wikipedia.org/wiki/Super_Aguri_F1', 'name': 'Super Aguri', 'nationality': 'Japanese'}]}, {'position': '20', 'positionText': '20', 'points': '0', 'wins': '0', 'Driver': {'driverId': 'davidson', 'code': 'DAV', 'url': 'http://en.wikipedia.org/wiki/Anthony_Davidson', 'givenName': 'Anthony', 'familyName': 'Davidson', 'dateOfBirth': '1979-04-18', 'nationality': 'British'}, 'Constructors': [{'constructorId': 'super_aguri', 'url': 'http://en.wikipedia.org/wiki/Super_Aguri_F1', 'name': 'Super Aguri', 'nationality': 'Japanese'}]}, {'position': '21', 'positionText': '21', 'points': '0', 'wins': '0', 'Driver': {'driverId': 'sutil', 'permanentNumber': '99', 'code': 'SUT', 'url': 'http://en.wikipedia.org/wiki/Adrian_Sutil', 'givenName': 'Adrian', 'familyName': 'Sutil', 'dateOfBirth': '1983-01-11', 'nationality': 'German'}, 'Constructors': [{'constructorId': 'force_india', 'url': 'http://en.wikipedia.org/wiki/Racing_Point_Force_India', 'name': 'Force India', 'nationality': 'Indian'}]}, {'position': '22', 'positionText': '22', 'points': '0', 'wins': '0', 'Driver': {'driverId': 'vettel', 'permanentNumber': '5', 'code': 'VET', 'url': 'http://en.wikipedia.org/wiki/Sebastian_Vettel', 'givenName': 'Sebastian', 'familyName': 'Vettel', 'dateOfBirth': '1987-07-03', 'nationality': 'German'}, 'Constructors': [{'constructorId': 'toro_rosso', 'url': 'http://en.wikipedia.org/wiki/Scuderia_Toro_Rosso', 'name': 'Toro Rosso', 'nationality': 'Italian'}]}]}]}}}\n"
     ]
    }
   ],
   "source": [
    "print(response.json())"
   ]
  },
  {
   "attachments": {},
   "cell_type": "markdown",
   "id": "3b49045f",
   "metadata": {},
   "source": [
    "### Get the Driver Standings Data from JSON"
   ]
  },
  {
   "cell_type": "code",
   "execution_count": 12,
   "id": "f074dfcf",
   "metadata": {},
   "outputs": [
    {
     "name": "stdout",
     "output_type": "stream",
     "text": [
      "{'position': '3', 'positionText': '3', 'points': '28', 'wins': '1', 'Driver': {'driverId': 'hamilton', 'permanentNumber': '44', 'code': 'HAM', 'url': 'http://en.wikipedia.org/wiki/Lewis_Hamilton', 'givenName': 'Lewis', 'familyName': 'Hamilton', 'dateOfBirth': '1985-01-07', 'nationality': 'British'}, 'Constructors': [{'constructorId': 'mclaren', 'url': 'http://en.wikipedia.org/wiki/McLaren', 'name': 'McLaren', 'nationality': 'British'}]}\n"
     ]
    }
   ],
   "source": [
    "#use Ctrl+f to search keywords in browser\n",
    "\n",
    "data = response.json()\n",
    "\n",
    "driver_standings = data['MRData']['StandingsTable']['StandingsLists'][0]['DriverStandings']\n",
    "\n",
    "print(driver_standings[2])"
   ]
  },
  {
   "attachments": {},
   "cell_type": "markdown",
   "id": "459823db",
   "metadata": {},
   "source": [
    "### Use a for loop to display all driver full names"
   ]
  },
  {
   "cell_type": "code",
   "execution_count": 11,
   "id": "be46a950",
   "metadata": {},
   "outputs": [
    {
     "name": "stdout",
     "output_type": "stream",
     "text": [
      "Kimi Räikkönen\n",
      "Felipe Massa\n",
      "Lewis Hamilton\n",
      "Robert Kubica\n",
      "Nick Heidfeld\n",
      "Heikki Kovalainen\n",
      "Mark Webber\n",
      "Fernando Alonso\n",
      "Jarno Trulli\n",
      "Nico Rosberg\n",
      "Kazuki Nakajima\n",
      "Jenson Button\n",
      "Sébastien Bourdais\n",
      "David Coulthard\n",
      "Timo Glock\n",
      "Giancarlo Fisichella\n",
      "Rubens Barrichello\n",
      "Nelson Piquet Jr.\n",
      "Takuma Sato\n",
      "Anthony Davidson\n",
      "Adrian Sutil\n",
      "Sebastian Vettel\n"
     ]
    }
   ],
   "source": [
    "for driver in driver_standings:\n",
    "    print(f\"{driver['Driver']['givenName']} {driver['Driver']['familyName']}\")"
   ]
  },
  {
   "attachments": {},
   "cell_type": "markdown",
   "id": "43c20f0d",
   "metadata": {},
   "source": [
    "### Create a function getting certain driver info (givenName, familyName, dateOfBirth, wins, team)"
   ]
  },
  {
   "cell_type": "code",
   "execution_count": 13,
   "id": "3740c752",
   "metadata": {},
   "outputs": [
    {
     "name": "stdout",
     "output_type": "stream",
     "text": [
      "{'first_name': 'Lewis', 'last_name': 'Hamilton', 'DOB': '1985-01-07', 'wins': '1', 'team': 'McLaren'}\n"
     ]
    }
   ],
   "source": [
    "\n",
    "\n",
    "\n",
    "def getDriverInfo(driver):\n",
    "    driver_info = {\n",
    "        'first_name': driver['Driver']['givenName'],\n",
    "        'last_name': driver['Driver']['familyName'],\n",
    "        'DOB': driver['Driver']['dateOfBirth'],\n",
    "        'wins': driver['wins'],\n",
    "        'team': driver['Constructors'][0]['name']\n",
    "    }\n",
    "    return driver_info\n",
    "\n",
    "\n",
    "print(getDriverInfo(driver_standings[2]))"
   ]
  },
  {
   "attachments": {},
   "cell_type": "markdown",
   "id": "1a713b13",
   "metadata": {},
   "source": [
    "### Making a more flexible function to handle different years and rounds"
   ]
  },
  {
   "cell_type": "code",
   "execution_count": 17,
   "id": "e9866280",
   "metadata": {},
   "outputs": [
    {
     "name": "stdout",
     "output_type": "stream",
     "text": [
      "Lewis Hamilton 1985-01-07 6 Mercedes \n",
      "\n",
      "Valtteri Bottas 1989-08-28 2 Mercedes \n",
      "\n",
      "Max Verstappen 1997-09-30 1 Red Bull \n",
      "\n",
      "Lando Norris 1999-11-13 0 McLaren \n",
      "\n",
      "Alexander Albon 1996-03-23 0 Red Bull \n",
      "\n",
      "Daniel Ricciardo 1989-07-01 0 Renault \n",
      "\n",
      "Charles Leclerc 1997-10-16 0 Ferrari \n",
      "\n",
      "Lance Stroll 1998-10-29 0 Racing Point \n",
      "\n",
      "Sergio Pérez 1990-01-26 0 Racing Point \n",
      "\n",
      "Pierre Gasly 1996-02-07 1 AlphaTauri \n",
      "\n",
      "Carlos Sainz 1994-09-01 0 McLaren \n",
      "\n",
      "Esteban Ocon 1996-09-17 0 Renault \n",
      "\n",
      "Sebastian Vettel 1987-07-03 0 Ferrari \n",
      "\n",
      "Daniil Kvyat 1994-04-26 0 AlphaTauri \n",
      "\n",
      "Nico Hülkenberg 1987-08-19 0 Racing Point \n",
      "\n",
      "Kimi Räikkönen 1979-10-17 0 Alfa Romeo \n",
      "\n",
      "Antonio Giovinazzi 1993-12-14 0 Alfa Romeo \n",
      "\n",
      "Kevin Magnussen 1992-10-05 0 Haas F1 Team \n",
      "\n",
      "Nicholas Latifi 1995-06-29 0 Williams \n",
      "\n",
      "George Russell 1998-02-15 0 Williams \n",
      "\n",
      "Romain Grosjean 1986-04-17 0 Haas F1 Team \n",
      "\n"
     ]
    }
   ],
   "source": [
    "\n",
    "def driver_info_year_rnd(year, rnd):\n",
    "    url = f'https://ergast.com/api/f1/{year}/{rnd}/driverStandings.json'\n",
    "    response = requests.get(url)\n",
    "    if response.ok:\n",
    "        data = response.json()\n",
    "        driver_standings = data['MRData']['StandingsTable']['StandingsLists'][0]['DriverStandings']\n",
    "        for driver in driver_standings:\n",
    "            driver_dict = getDriverInfo(driver)\n",
    "            print(f\"{driver_dict['first_name']} {driver_dict['last_name']} {driver_dict['DOB']} {driver_dict['wins']} {driver_dict['team']} \\n\")\n",
    "    \n",
    "    \n",
    "\n",
    "driver_info_year_rnd(2020, 10)"
   ]
  },
  {
   "cell_type": "markdown",
   "id": "6d546014",
   "metadata": {},
   "source": [
    "# <strong>Homework</strong>\n",
    "\n",
    "check out this Pokemon API: https://pokeapi.co/ <br>\n",
    "\n",
    "Write a function that takes in a pokemon's name or id and returns dictionary that includes the pokemons: name, one ability, base_experience, and a URL for a sprite image<br>\n",
    "\n",
    "Use this function to get the info of 5 pokemon"
   ]
  },
  {
   "cell_type": "code",
   "execution_count": 44,
   "id": "5a9081e3",
   "metadata": {},
   "outputs": [
    {
     "name": "stdout",
     "output_type": "stream",
     "text": [
      "Name: charizard\n",
      "Abilities:\n",
      "- blaze\n",
      "- solar-power\n",
      "Base Experience: 267\n",
      "Sprites: https://raw.githubusercontent.com/PokeAPI/sprites/master/sprites/pokemon/back/6.png\n",
      "Name: vanillish\n",
      "Abilities:\n",
      "- ice-body\n",
      "- snow-cloak\n",
      "- weak-armor\n",
      "Base Experience: 138\n",
      "Sprites: https://raw.githubusercontent.com/PokeAPI/sprites/master/sprites/pokemon/back/583.png\n",
      "Name: kingler\n",
      "Abilities:\n",
      "- hyper-cutter\n",
      "- shell-armor\n",
      "- sheer-force\n",
      "Base Experience: 166\n",
      "Sprites: https://raw.githubusercontent.com/PokeAPI/sprites/master/sprites/pokemon/back/99.png\n",
      "Name: machoke\n",
      "Abilities:\n",
      "- guts\n",
      "- no-guard\n",
      "- steadfast\n",
      "Base Experience: 142\n",
      "Sprites: https://raw.githubusercontent.com/PokeAPI/sprites/master/sprites/pokemon/back/67.png\n",
      "Name: butterfree\n",
      "Abilities:\n",
      "- compound-eyes\n",
      "- tinted-lens\n",
      "Base Experience: 198\n",
      "Sprites: https://raw.githubusercontent.com/PokeAPI/sprites/master/sprites/pokemon/back/12.png\n"
     ]
    }
   ],
   "source": [
    "# response = requests.get(url)\n",
    "# data = response.json()\n",
    "# poke_info = data['name'][\"ability\"][\"base_xp\"]\n",
    "    # poke_dic = {\n",
    "    #     \"name\": pokemon,\n",
    "    #     \"abilities\": data[\"abilities\"],\n",
    "    #     \"base_xp\": data[\"base_experience\"],\n",
    "    #     \"sprite\": data[\"sprites\"][\"back_default\"]\n",
    "    # }\n",
    "\n",
    "import requests\n",
    "\n",
    "url = 'https://pokeapi.co/api/v2/pokemon/'\n",
    "\n",
    "def getPokenInfo(pokemon):\n",
    "    url = 'https://pokeapi.co/api/v2/pokemon/' + pokemon\n",
    "    data = requests.get(url).json()\n",
    "    print('Name: ' + data['name'])\n",
    "    print('Abilities:')\n",
    "    for ability in data['abilities']:\n",
    "        print( '- ' + ability['ability']['name'])\n",
    "    print('Base Experience: ' + str(data['base_experience']))\n",
    "    print('Sprites: ' + data['sprites']['back_default'])\n",
    "\n",
    "\n",
    "getPokenInfo(\"6\")\n",
    "getPokenInfo(\"583\")\n",
    "getPokenInfo(\"99\")\n",
    "getPokenInfo(\"67\")\n",
    "getPokenInfo(\"12\")\n",
    "\n",
    "        \n"
   ]
  }
 ],
 "metadata": {
  "kernelspec": {
   "display_name": "Python 3.10.8 64-bit (microsoft store)",
   "language": "python",
   "name": "python3"
  },
  "language_info": {
   "codemirror_mode": {
    "name": "ipython",
    "version": 3
   },
   "file_extension": ".py",
   "mimetype": "text/x-python",
   "name": "python",
   "nbconvert_exporter": "python",
   "pygments_lexer": "ipython3",
   "version": "3.11.5"
  },
  "vscode": {
   "interpreter": {
    "hash": "aa82987a71ca0339a52998cd22613b0c002bda8349fa32a0cb67ceec3936a2bf"
   }
  }
 },
 "nbformat": 4,
 "nbformat_minor": 5
}
